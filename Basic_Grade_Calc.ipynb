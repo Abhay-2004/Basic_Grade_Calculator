{
 "cells": [
  {
   "cell_type": "code",
   "execution_count": null,
   "id": "461e24d1-0565-435b-9a77-66156957fb60",
   "metadata": {
    "tags": []
   },
   "outputs": [],
   "source": [
    "print(\"Name: Abhay Prasanna Rao\")"
   ]
  },
  {
   "cell_type": "code",
   "execution_count": null,
   "id": "56576c13-c3b0-4b57-8548-1b02d160c9f3",
   "metadata": {
    "tags": []
   },
   "outputs": [],
   "source": [
    "def Letter_grade():\n",
    "    while True:\n",
    "        try:\n",
    "            final_points = float(input(\"What is your final point?: \"))\n",
    "            if 0 <= final_points <= 100:\n",
    "                if final_points >= 92.5:\n",
    "                    grade = 'A'\n",
    "                    comment = ', Good JOB!'\n",
    "                elif final_points >= 82.5:\n",
    "                    grade = 'B'\n",
    "                    comment = ''\n",
    "                elif final_points >= 72.5:\n",
    "                    grade = 'C'\n",
    "                    comment = ''\n",
    "                elif final_points >= 62.5:\n",
    "                    grade = 'D'\n",
    "                    comment = ''\n",
    "                else:\n",
    "                    grade = 'F'\n",
    "                    comment = ', Sorry you fail'\n",
    "                print(f'Your points: {final_points} Your letter grade is: {grade}{comment}')\n",
    "                break\n",
    "            else:\n",
    "                print(\"Invalid input! Please enter in the scale of 0-100\")\n",
    "        except ValueError:\n",
    "            print(\"Invalid input! Please enter a number.\")\n",
    "\n",
    "\n"
   ]
  },
  {
   "cell_type": "code",
   "execution_count": null,
   "id": "221b8800-63c8-4151-a005-99074010142b",
   "metadata": {
    "tags": []
   },
   "outputs": [],
   "source": [
    "def main():\n",
    "    more = 'yes'\n",
    "    while more.lower() in [\"yes\", \"y\", \"i do\"]:\n",
    "        Letter_grade()\n",
    "        more = input(\"Do you have more grades to calculate?: \")\n",
    "    print('Grade report complete!')\n",
    "\n",
    "if __name__ == \"__main__\":\n",
    "    main()"
   ]
  },
  {
   "cell_type": "code",
   "execution_count": null,
   "id": "9f4dceeb-256f-4732-940e-a7e58d78be86",
   "metadata": {},
   "outputs": [],
   "source": []
  }
 ],
 "metadata": {
  "kernelspec": {
   "display_name": "Python 3 (ipykernel)",
   "language": "python",
   "name": "python3"
  },
  "language_info": {
   "codemirror_mode": {
    "name": "ipython",
    "version": 3
   },
   "file_extension": ".py",
   "mimetype": "text/x-python",
   "name": "python",
   "nbconvert_exporter": "python",
   "pygments_lexer": "ipython3",
   "version": "3.11.5"
  }
 },
 "nbformat": 4,
 "nbformat_minor": 5
}
